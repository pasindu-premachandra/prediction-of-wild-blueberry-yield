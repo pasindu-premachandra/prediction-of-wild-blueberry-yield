{
 "cells": [
  {
   "cell_type": "markdown",
   "source": [
    "## Predicting the BlueBerry Yeild"
   ],
   "metadata": {
    "collapsed": false
   },
   "id": "b5c8a8629377b524"
  },
  {
   "cell_type": "markdown",
   "source": [
    "### Import libraries"
   ],
   "metadata": {
    "collapsed": false
   },
   "id": "49ac26b94eae7bd2"
  },
  {
   "cell_type": "code",
   "execution_count": 18,
   "id": "initial_id",
   "metadata": {
    "collapsed": true,
    "ExecuteTime": {
     "end_time": "2023-12-06T09:19:43.268743300Z",
     "start_time": "2023-12-06T09:19:41.146053400Z"
    }
   },
   "outputs": [],
   "source": [
    "import numpy as np\n",
    "import pandas as pd\n",
    "from sklearn.linear_model import LinearRegression  "
   ]
  },
  {
   "cell_type": "markdown",
   "source": [
    "### Analyse and Explore Dataset"
   ],
   "metadata": {
    "collapsed": false
   },
   "id": "e4c9ac9660a3b740"
  },
  {
   "cell_type": "code",
   "execution_count": 7,
   "outputs": [
    {
     "data": {
      "text/plain": "   id  clonesize  honeybee  bumbles  andrena  osmia  MaxOfUpperTRange  \\\n0   0       25.0      0.50     0.25     0.75   0.50              69.7   \n1   1       25.0      0.50     0.25     0.50   0.50              69.7   \n2   2       12.5      0.25     0.25     0.63   0.63              86.0   \n3   3       12.5      0.25     0.25     0.63   0.50              77.4   \n4   4       25.0      0.50     0.25     0.63   0.63              77.4   \n5   5       25.0      0.50     0.25     0.63   0.75              94.6   \n6   6       12.5      0.25     0.38     0.50   0.63              86.0   \n7   7       12.5      0.25     0.25     0.75   0.75              86.0   \n8   8       25.0      0.50     0.38     0.38   0.75              94.6   \n9   9       25.0      0.50     0.25     0.63   0.63              94.6   \n\n   MinOfUpperTRange  AverageOfUpperTRange  MaxOfLowerTRange  MinOfLowerTRange  \\\n0              42.1                  58.2              50.2              24.3   \n1              42.1                  58.2              50.2              24.3   \n2              52.0                  71.9              62.0              30.0   \n3              46.8                  64.7              55.8              27.0   \n4              46.8                  64.7              55.8              27.0   \n5              57.2                  79.0              68.2              33.0   \n6              52.0                  71.9              62.0              30.0   \n7              52.0                  71.9              62.0              30.0   \n8              57.2                  79.0              68.2              33.0   \n9              57.2                  79.0              68.2              33.0   \n\n   AverageOfLowerTRange  RainingDays  AverageRainingDays  fruitset  fruitmass  \\\n0                  41.2         24.0                0.39  0.425011   0.417545   \n1                  41.2         24.0                0.39  0.444908   0.422051   \n2                  50.8         24.0                0.39  0.552927   0.470853   \n3                  45.8         24.0                0.39  0.565976   0.478137   \n4                  45.8         24.0                0.39  0.579677   0.494165   \n5                  55.9         34.0                0.56  0.565239   0.484350   \n6                  50.8         24.0                0.39  0.498730   0.442193   \n7                  50.8          1.0                0.10  0.619888   0.529502   \n8                  55.9         16.0                0.26  0.532557   0.465367   \n9                  55.9         34.0                0.56  0.340063   0.381768   \n\n       seeds       yield  \n0  32.460887  4476.81146  \n1  33.858317  5548.12201  \n2  38.341781  6869.77760  \n3  39.467561  6880.77590  \n4  40.484512  7479.93417  \n5  40.555019  7267.28344  \n6  35.517539  5739.68029  \n7  42.191013  7920.06175  \n8  36.166044  6465.37205  \n9  28.763565  3519.43131  ",
      "text/html": "<div>\n<style scoped>\n    .dataframe tbody tr th:only-of-type {\n        vertical-align: middle;\n    }\n\n    .dataframe tbody tr th {\n        vertical-align: top;\n    }\n\n    .dataframe thead th {\n        text-align: right;\n    }\n</style>\n<table border=\"1\" class=\"dataframe\">\n  <thead>\n    <tr style=\"text-align: right;\">\n      <th></th>\n      <th>id</th>\n      <th>clonesize</th>\n      <th>honeybee</th>\n      <th>bumbles</th>\n      <th>andrena</th>\n      <th>osmia</th>\n      <th>MaxOfUpperTRange</th>\n      <th>MinOfUpperTRange</th>\n      <th>AverageOfUpperTRange</th>\n      <th>MaxOfLowerTRange</th>\n      <th>MinOfLowerTRange</th>\n      <th>AverageOfLowerTRange</th>\n      <th>RainingDays</th>\n      <th>AverageRainingDays</th>\n      <th>fruitset</th>\n      <th>fruitmass</th>\n      <th>seeds</th>\n      <th>yield</th>\n    </tr>\n  </thead>\n  <tbody>\n    <tr>\n      <th>0</th>\n      <td>0</td>\n      <td>25.0</td>\n      <td>0.50</td>\n      <td>0.25</td>\n      <td>0.75</td>\n      <td>0.50</td>\n      <td>69.7</td>\n      <td>42.1</td>\n      <td>58.2</td>\n      <td>50.2</td>\n      <td>24.3</td>\n      <td>41.2</td>\n      <td>24.0</td>\n      <td>0.39</td>\n      <td>0.425011</td>\n      <td>0.417545</td>\n      <td>32.460887</td>\n      <td>4476.81146</td>\n    </tr>\n    <tr>\n      <th>1</th>\n      <td>1</td>\n      <td>25.0</td>\n      <td>0.50</td>\n      <td>0.25</td>\n      <td>0.50</td>\n      <td>0.50</td>\n      <td>69.7</td>\n      <td>42.1</td>\n      <td>58.2</td>\n      <td>50.2</td>\n      <td>24.3</td>\n      <td>41.2</td>\n      <td>24.0</td>\n      <td>0.39</td>\n      <td>0.444908</td>\n      <td>0.422051</td>\n      <td>33.858317</td>\n      <td>5548.12201</td>\n    </tr>\n    <tr>\n      <th>2</th>\n      <td>2</td>\n      <td>12.5</td>\n      <td>0.25</td>\n      <td>0.25</td>\n      <td>0.63</td>\n      <td>0.63</td>\n      <td>86.0</td>\n      <td>52.0</td>\n      <td>71.9</td>\n      <td>62.0</td>\n      <td>30.0</td>\n      <td>50.8</td>\n      <td>24.0</td>\n      <td>0.39</td>\n      <td>0.552927</td>\n      <td>0.470853</td>\n      <td>38.341781</td>\n      <td>6869.77760</td>\n    </tr>\n    <tr>\n      <th>3</th>\n      <td>3</td>\n      <td>12.5</td>\n      <td>0.25</td>\n      <td>0.25</td>\n      <td>0.63</td>\n      <td>0.50</td>\n      <td>77.4</td>\n      <td>46.8</td>\n      <td>64.7</td>\n      <td>55.8</td>\n      <td>27.0</td>\n      <td>45.8</td>\n      <td>24.0</td>\n      <td>0.39</td>\n      <td>0.565976</td>\n      <td>0.478137</td>\n      <td>39.467561</td>\n      <td>6880.77590</td>\n    </tr>\n    <tr>\n      <th>4</th>\n      <td>4</td>\n      <td>25.0</td>\n      <td>0.50</td>\n      <td>0.25</td>\n      <td>0.63</td>\n      <td>0.63</td>\n      <td>77.4</td>\n      <td>46.8</td>\n      <td>64.7</td>\n      <td>55.8</td>\n      <td>27.0</td>\n      <td>45.8</td>\n      <td>24.0</td>\n      <td>0.39</td>\n      <td>0.579677</td>\n      <td>0.494165</td>\n      <td>40.484512</td>\n      <td>7479.93417</td>\n    </tr>\n    <tr>\n      <th>5</th>\n      <td>5</td>\n      <td>25.0</td>\n      <td>0.50</td>\n      <td>0.25</td>\n      <td>0.63</td>\n      <td>0.75</td>\n      <td>94.6</td>\n      <td>57.2</td>\n      <td>79.0</td>\n      <td>68.2</td>\n      <td>33.0</td>\n      <td>55.9</td>\n      <td>34.0</td>\n      <td>0.56</td>\n      <td>0.565239</td>\n      <td>0.484350</td>\n      <td>40.555019</td>\n      <td>7267.28344</td>\n    </tr>\n    <tr>\n      <th>6</th>\n      <td>6</td>\n      <td>12.5</td>\n      <td>0.25</td>\n      <td>0.38</td>\n      <td>0.50</td>\n      <td>0.63</td>\n      <td>86.0</td>\n      <td>52.0</td>\n      <td>71.9</td>\n      <td>62.0</td>\n      <td>30.0</td>\n      <td>50.8</td>\n      <td>24.0</td>\n      <td>0.39</td>\n      <td>0.498730</td>\n      <td>0.442193</td>\n      <td>35.517539</td>\n      <td>5739.68029</td>\n    </tr>\n    <tr>\n      <th>7</th>\n      <td>7</td>\n      <td>12.5</td>\n      <td>0.25</td>\n      <td>0.25</td>\n      <td>0.75</td>\n      <td>0.75</td>\n      <td>86.0</td>\n      <td>52.0</td>\n      <td>71.9</td>\n      <td>62.0</td>\n      <td>30.0</td>\n      <td>50.8</td>\n      <td>1.0</td>\n      <td>0.10</td>\n      <td>0.619888</td>\n      <td>0.529502</td>\n      <td>42.191013</td>\n      <td>7920.06175</td>\n    </tr>\n    <tr>\n      <th>8</th>\n      <td>8</td>\n      <td>25.0</td>\n      <td>0.50</td>\n      <td>0.38</td>\n      <td>0.38</td>\n      <td>0.75</td>\n      <td>94.6</td>\n      <td>57.2</td>\n      <td>79.0</td>\n      <td>68.2</td>\n      <td>33.0</td>\n      <td>55.9</td>\n      <td>16.0</td>\n      <td>0.26</td>\n      <td>0.532557</td>\n      <td>0.465367</td>\n      <td>36.166044</td>\n      <td>6465.37205</td>\n    </tr>\n    <tr>\n      <th>9</th>\n      <td>9</td>\n      <td>25.0</td>\n      <td>0.50</td>\n      <td>0.25</td>\n      <td>0.63</td>\n      <td>0.63</td>\n      <td>94.6</td>\n      <td>57.2</td>\n      <td>79.0</td>\n      <td>68.2</td>\n      <td>33.0</td>\n      <td>55.9</td>\n      <td>34.0</td>\n      <td>0.56</td>\n      <td>0.340063</td>\n      <td>0.381768</td>\n      <td>28.763565</td>\n      <td>3519.43131</td>\n    </tr>\n  </tbody>\n</table>\n</div>"
     },
     "execution_count": 7,
     "metadata": {},
     "output_type": "execute_result"
    }
   ],
   "source": [
    "# Import the dataset\n",
    "df = pd.read_csv(\"archive/train.csv\")\n",
    "df.head(10)"
   ],
   "metadata": {
    "collapsed": false,
    "ExecuteTime": {
     "end_time": "2023-12-06T09:10:51.960678700Z",
     "start_time": "2023-12-06T09:10:51.812589700Z"
    }
   },
   "id": "e160c13072f2dbea"
  },
  {
   "cell_type": "code",
   "execution_count": 8,
   "outputs": [
    {
     "data": {
      "text/plain": "(15289, 18)"
     },
     "execution_count": 8,
     "metadata": {},
     "output_type": "execute_result"
    }
   ],
   "source": [
    "df.shape"
   ],
   "metadata": {
    "collapsed": false,
    "ExecuteTime": {
     "end_time": "2023-12-06T09:11:25.913227Z",
     "start_time": "2023-12-06T09:11:25.863740600Z"
    }
   },
   "id": "e85a1c0715a975be"
  },
  {
   "cell_type": "code",
   "execution_count": 10,
   "outputs": [
    {
     "name": "stdout",
     "output_type": "stream",
     "text": [
      "<class 'pandas.core.frame.DataFrame'>\n",
      "RangeIndex: 15289 entries, 0 to 15288\n",
      "Data columns (total 18 columns):\n",
      " #   Column                Non-Null Count  Dtype  \n",
      "---  ------                --------------  -----  \n",
      " 0   id                    15289 non-null  int64  \n",
      " 1   clonesize             15289 non-null  float64\n",
      " 2   honeybee              15289 non-null  float64\n",
      " 3   bumbles               15289 non-null  float64\n",
      " 4   andrena               15289 non-null  float64\n",
      " 5   osmia                 15289 non-null  float64\n",
      " 6   MaxOfUpperTRange      15289 non-null  float64\n",
      " 7   MinOfUpperTRange      15289 non-null  float64\n",
      " 8   AverageOfUpperTRange  15289 non-null  float64\n",
      " 9   MaxOfLowerTRange      15289 non-null  float64\n",
      " 10  MinOfLowerTRange      15289 non-null  float64\n",
      " 11  AverageOfLowerTRange  15289 non-null  float64\n",
      " 12  RainingDays           15289 non-null  float64\n",
      " 13  AverageRainingDays    15289 non-null  float64\n",
      " 14  fruitset              15289 non-null  float64\n",
      " 15  fruitmass             15289 non-null  float64\n",
      " 16  seeds                 15289 non-null  float64\n",
      " 17  yield                 15289 non-null  float64\n",
      "dtypes: float64(17), int64(1)\n",
      "memory usage: 2.1 MB\n"
     ]
    }
   ],
   "source": [
    "df.info()"
   ],
   "metadata": {
    "collapsed": false,
    "ExecuteTime": {
     "end_time": "2023-12-06T09:11:40.746685Z",
     "start_time": "2023-12-06T09:11:40.700986700Z"
    }
   },
   "id": "67803c7c4b0f6a1"
  },
  {
   "cell_type": "code",
   "execution_count": 11,
   "outputs": [
    {
     "data": {
      "text/plain": "id                      0\nclonesize               0\nhoneybee                0\nbumbles                 0\nandrena                 0\nosmia                   0\nMaxOfUpperTRange        0\nMinOfUpperTRange        0\nAverageOfUpperTRange    0\nMaxOfLowerTRange        0\nMinOfLowerTRange        0\nAverageOfLowerTRange    0\nRainingDays             0\nAverageRainingDays      0\nfruitset                0\nfruitmass               0\nseeds                   0\nyield                   0\ndtype: int64"
     },
     "execution_count": 11,
     "metadata": {},
     "output_type": "execute_result"
    }
   ],
   "source": [
    "#checking null value \n",
    "df.isna().sum()"
   ],
   "metadata": {
    "collapsed": false,
    "ExecuteTime": {
     "end_time": "2023-12-06T09:11:57.731813300Z",
     "start_time": "2023-12-06T09:11:57.715592300Z"
    }
   },
   "id": "43a59c38ba54e4cc"
  },
  {
   "cell_type": "code",
   "execution_count": 12,
   "outputs": [
    {
     "data": {
      "text/plain": "            id  clonesize  honeybee   bumbles   andrena     osmia  \\\ncount  15289.0    15289.0  15289.00  15289.00  15289.00  15289.00   \nmean    7644.0       19.7      0.39      0.29      0.49      0.59   \nstd     4413.7        6.6      0.36      0.06      0.15      0.14   \nmin        0.0       10.0      0.00      0.00      0.00      0.00   \n25%     3822.0       12.5      0.25      0.25      0.38      0.50   \n50%     7644.0       25.0      0.50      0.25      0.50      0.63   \n75%    11466.0       25.0      0.50      0.38      0.63      0.75   \nmax    15288.0       40.0     18.43      0.58      0.75      0.75   \n\n       MaxOfUpperTRange  MinOfUpperTRange  AverageOfUpperTRange  \\\ncount          15289.00          15289.00              15289.00   \nmean              82.17             49.67                 68.66   \nstd                9.15              5.55                  7.64   \nmin               69.70             39.00                 58.20   \n25%               77.40             46.80                 64.70   \n50%               86.00             52.00                 71.90   \n75%               86.00             52.00                 71.90   \nmax               94.60             57.20                 79.00   \n\n       MaxOfLowerTRange  MinOfLowerTRange  AverageOfLowerTRange  RainingDays  \\\ncount          15289.00          15289.00              15289.00     15289.00   \nmean              59.23             28.66                 48.57        18.66   \nstd                6.61              3.20                  5.39        11.66   \nmin               50.20             24.30                 41.20         1.00   \n25%               55.80             27.00                 45.80        16.00   \n50%               62.00             30.00                 50.80        16.00   \n75%               62.00             30.00                 50.80        24.00   \nmax               68.20             33.00                 55.90        34.00   \n\n       AverageRainingDays  fruitset  fruitmass     seeds     yield  \ncount            15289.00  15289.00   15289.00  15289.00  15289.00  \nmean                 0.32      0.50       0.45     36.16   6025.19  \nstd                  0.16      0.07       0.04      4.03   1337.06  \nmin                  0.06      0.19       0.31     22.08   1945.53  \n25%                  0.26      0.46       0.42     33.23   5128.16  \n50%                  0.26      0.51       0.45     36.04   6117.48  \n75%                  0.39      0.56       0.47     39.16   7019.69  \nmax                  0.56      0.65       0.54     46.59   8969.40  ",
      "text/html": "<div>\n<style scoped>\n    .dataframe tbody tr th:only-of-type {\n        vertical-align: middle;\n    }\n\n    .dataframe tbody tr th {\n        vertical-align: top;\n    }\n\n    .dataframe thead th {\n        text-align: right;\n    }\n</style>\n<table border=\"1\" class=\"dataframe\">\n  <thead>\n    <tr style=\"text-align: right;\">\n      <th></th>\n      <th>id</th>\n      <th>clonesize</th>\n      <th>honeybee</th>\n      <th>bumbles</th>\n      <th>andrena</th>\n      <th>osmia</th>\n      <th>MaxOfUpperTRange</th>\n      <th>MinOfUpperTRange</th>\n      <th>AverageOfUpperTRange</th>\n      <th>MaxOfLowerTRange</th>\n      <th>MinOfLowerTRange</th>\n      <th>AverageOfLowerTRange</th>\n      <th>RainingDays</th>\n      <th>AverageRainingDays</th>\n      <th>fruitset</th>\n      <th>fruitmass</th>\n      <th>seeds</th>\n      <th>yield</th>\n    </tr>\n  </thead>\n  <tbody>\n    <tr>\n      <th>count</th>\n      <td>15289.0</td>\n      <td>15289.0</td>\n      <td>15289.00</td>\n      <td>15289.00</td>\n      <td>15289.00</td>\n      <td>15289.00</td>\n      <td>15289.00</td>\n      <td>15289.00</td>\n      <td>15289.00</td>\n      <td>15289.00</td>\n      <td>15289.00</td>\n      <td>15289.00</td>\n      <td>15289.00</td>\n      <td>15289.00</td>\n      <td>15289.00</td>\n      <td>15289.00</td>\n      <td>15289.00</td>\n      <td>15289.00</td>\n    </tr>\n    <tr>\n      <th>mean</th>\n      <td>7644.0</td>\n      <td>19.7</td>\n      <td>0.39</td>\n      <td>0.29</td>\n      <td>0.49</td>\n      <td>0.59</td>\n      <td>82.17</td>\n      <td>49.67</td>\n      <td>68.66</td>\n      <td>59.23</td>\n      <td>28.66</td>\n      <td>48.57</td>\n      <td>18.66</td>\n      <td>0.32</td>\n      <td>0.50</td>\n      <td>0.45</td>\n      <td>36.16</td>\n      <td>6025.19</td>\n    </tr>\n    <tr>\n      <th>std</th>\n      <td>4413.7</td>\n      <td>6.6</td>\n      <td>0.36</td>\n      <td>0.06</td>\n      <td>0.15</td>\n      <td>0.14</td>\n      <td>9.15</td>\n      <td>5.55</td>\n      <td>7.64</td>\n      <td>6.61</td>\n      <td>3.20</td>\n      <td>5.39</td>\n      <td>11.66</td>\n      <td>0.16</td>\n      <td>0.07</td>\n      <td>0.04</td>\n      <td>4.03</td>\n      <td>1337.06</td>\n    </tr>\n    <tr>\n      <th>min</th>\n      <td>0.0</td>\n      <td>10.0</td>\n      <td>0.00</td>\n      <td>0.00</td>\n      <td>0.00</td>\n      <td>0.00</td>\n      <td>69.70</td>\n      <td>39.00</td>\n      <td>58.20</td>\n      <td>50.20</td>\n      <td>24.30</td>\n      <td>41.20</td>\n      <td>1.00</td>\n      <td>0.06</td>\n      <td>0.19</td>\n      <td>0.31</td>\n      <td>22.08</td>\n      <td>1945.53</td>\n    </tr>\n    <tr>\n      <th>25%</th>\n      <td>3822.0</td>\n      <td>12.5</td>\n      <td>0.25</td>\n      <td>0.25</td>\n      <td>0.38</td>\n      <td>0.50</td>\n      <td>77.40</td>\n      <td>46.80</td>\n      <td>64.70</td>\n      <td>55.80</td>\n      <td>27.00</td>\n      <td>45.80</td>\n      <td>16.00</td>\n      <td>0.26</td>\n      <td>0.46</td>\n      <td>0.42</td>\n      <td>33.23</td>\n      <td>5128.16</td>\n    </tr>\n    <tr>\n      <th>50%</th>\n      <td>7644.0</td>\n      <td>25.0</td>\n      <td>0.50</td>\n      <td>0.25</td>\n      <td>0.50</td>\n      <td>0.63</td>\n      <td>86.00</td>\n      <td>52.00</td>\n      <td>71.90</td>\n      <td>62.00</td>\n      <td>30.00</td>\n      <td>50.80</td>\n      <td>16.00</td>\n      <td>0.26</td>\n      <td>0.51</td>\n      <td>0.45</td>\n      <td>36.04</td>\n      <td>6117.48</td>\n    </tr>\n    <tr>\n      <th>75%</th>\n      <td>11466.0</td>\n      <td>25.0</td>\n      <td>0.50</td>\n      <td>0.38</td>\n      <td>0.63</td>\n      <td>0.75</td>\n      <td>86.00</td>\n      <td>52.00</td>\n      <td>71.90</td>\n      <td>62.00</td>\n      <td>30.00</td>\n      <td>50.80</td>\n      <td>24.00</td>\n      <td>0.39</td>\n      <td>0.56</td>\n      <td>0.47</td>\n      <td>39.16</td>\n      <td>7019.69</td>\n    </tr>\n    <tr>\n      <th>max</th>\n      <td>15288.0</td>\n      <td>40.0</td>\n      <td>18.43</td>\n      <td>0.58</td>\n      <td>0.75</td>\n      <td>0.75</td>\n      <td>94.60</td>\n      <td>57.20</td>\n      <td>79.00</td>\n      <td>68.20</td>\n      <td>33.00</td>\n      <td>55.90</td>\n      <td>34.00</td>\n      <td>0.56</td>\n      <td>0.65</td>\n      <td>0.54</td>\n      <td>46.59</td>\n      <td>8969.40</td>\n    </tr>\n  </tbody>\n</table>\n</div>"
     },
     "execution_count": 12,
     "metadata": {},
     "output_type": "execute_result"
    }
   ],
   "source": [
    "# look describe data set\n",
    "df.describe().round(2)"
   ],
   "metadata": {
    "collapsed": false,
    "ExecuteTime": {
     "end_time": "2023-12-06T09:12:18.228726400Z",
     "start_time": "2023-12-06T09:12:18.117352Z"
    }
   },
   "id": "60f350622174e50c"
  },
  {
   "cell_type": "code",
   "execution_count": 13,
   "outputs": [
    {
     "data": {
      "text/plain": "                  min         max         mean\n                yield       yield        yield\nclonesize                                     \n10.0       3826.17226  6772.93347  5423.544958\n12.5       1945.53061  8969.40184  6569.209692\n20.0       2384.72892  8465.88563  5349.923696\n25.0       1945.53061  8969.40184  5646.255505\n37.5       1945.53061  8247.52116  4192.967774\n40.0       3948.98691  4057.55521  4003.271060",
      "text/html": "<div>\n<style scoped>\n    .dataframe tbody tr th:only-of-type {\n        vertical-align: middle;\n    }\n\n    .dataframe tbody tr th {\n        vertical-align: top;\n    }\n\n    .dataframe thead tr th {\n        text-align: left;\n    }\n\n    .dataframe thead tr:last-of-type th {\n        text-align: right;\n    }\n</style>\n<table border=\"1\" class=\"dataframe\">\n  <thead>\n    <tr>\n      <th></th>\n      <th>min</th>\n      <th>max</th>\n      <th>mean</th>\n    </tr>\n    <tr>\n      <th></th>\n      <th>yield</th>\n      <th>yield</th>\n      <th>yield</th>\n    </tr>\n    <tr>\n      <th>clonesize</th>\n      <th></th>\n      <th></th>\n      <th></th>\n    </tr>\n  </thead>\n  <tbody>\n    <tr>\n      <th>10.0</th>\n      <td>3826.17226</td>\n      <td>6772.93347</td>\n      <td>5423.544958</td>\n    </tr>\n    <tr>\n      <th>12.5</th>\n      <td>1945.53061</td>\n      <td>8969.40184</td>\n      <td>6569.209692</td>\n    </tr>\n    <tr>\n      <th>20.0</th>\n      <td>2384.72892</td>\n      <td>8465.88563</td>\n      <td>5349.923696</td>\n    </tr>\n    <tr>\n      <th>25.0</th>\n      <td>1945.53061</td>\n      <td>8969.40184</td>\n      <td>5646.255505</td>\n    </tr>\n    <tr>\n      <th>37.5</th>\n      <td>1945.53061</td>\n      <td>8247.52116</td>\n      <td>4192.967774</td>\n    </tr>\n    <tr>\n      <th>40.0</th>\n      <td>3948.98691</td>\n      <td>4057.55521</td>\n      <td>4003.271060</td>\n    </tr>\n  </tbody>\n</table>\n</div>"
     },
     "execution_count": 13,
     "metadata": {},
     "output_type": "execute_result"
    }
   ],
   "source": [
    "pd.pivot_table(df, values='yield', index='clonesize', aggfunc=[min, max, np.mean])"
   ],
   "metadata": {
    "collapsed": false,
    "ExecuteTime": {
     "end_time": "2023-12-06T09:16:25.703707500Z",
     "start_time": "2023-12-06T09:16:25.651559400Z"
    }
   },
   "id": "20bfa00dccf3b88e"
  },
  {
   "cell_type": "code",
   "execution_count": 14,
   "outputs": [
    {
     "data": {
      "text/plain": "                 min         max         mean\n               yield       yield        yield\nhoneybee                                     \n0.000     3895.62684  8465.88563  5652.123680\n0.250     1945.53061  8969.40184  6408.230121\n0.500     1945.53061  8969.40184  5694.985309\n0.537     2384.72892  8134.72655  5531.225498\n0.750     1945.53061  8247.52116  4457.087572\n6.640     3937.91539  7778.34916  6265.434863\n18.430    2825.00374  5741.21030  4482.638426",
      "text/html": "<div>\n<style scoped>\n    .dataframe tbody tr th:only-of-type {\n        vertical-align: middle;\n    }\n\n    .dataframe tbody tr th {\n        vertical-align: top;\n    }\n\n    .dataframe thead tr th {\n        text-align: left;\n    }\n\n    .dataframe thead tr:last-of-type th {\n        text-align: right;\n    }\n</style>\n<table border=\"1\" class=\"dataframe\">\n  <thead>\n    <tr>\n      <th></th>\n      <th>min</th>\n      <th>max</th>\n      <th>mean</th>\n    </tr>\n    <tr>\n      <th></th>\n      <th>yield</th>\n      <th>yield</th>\n      <th>yield</th>\n    </tr>\n    <tr>\n      <th>honeybee</th>\n      <th></th>\n      <th></th>\n      <th></th>\n    </tr>\n  </thead>\n  <tbody>\n    <tr>\n      <th>0.000</th>\n      <td>3895.62684</td>\n      <td>8465.88563</td>\n      <td>5652.123680</td>\n    </tr>\n    <tr>\n      <th>0.250</th>\n      <td>1945.53061</td>\n      <td>8969.40184</td>\n      <td>6408.230121</td>\n    </tr>\n    <tr>\n      <th>0.500</th>\n      <td>1945.53061</td>\n      <td>8969.40184</td>\n      <td>5694.985309</td>\n    </tr>\n    <tr>\n      <th>0.537</th>\n      <td>2384.72892</td>\n      <td>8134.72655</td>\n      <td>5531.225498</td>\n    </tr>\n    <tr>\n      <th>0.750</th>\n      <td>1945.53061</td>\n      <td>8247.52116</td>\n      <td>4457.087572</td>\n    </tr>\n    <tr>\n      <th>6.640</th>\n      <td>3937.91539</td>\n      <td>7778.34916</td>\n      <td>6265.434863</td>\n    </tr>\n    <tr>\n      <th>18.430</th>\n      <td>2825.00374</td>\n      <td>5741.21030</td>\n      <td>4482.638426</td>\n    </tr>\n  </tbody>\n</table>\n</div>"
     },
     "execution_count": 14,
     "metadata": {},
     "output_type": "execute_result"
    }
   ],
   "source": [
    "pd.pivot_table(df, values='yield', index='honeybee', aggfunc=[min, max, np.mean])"
   ],
   "metadata": {
    "collapsed": false,
    "ExecuteTime": {
     "end_time": "2023-12-06T09:17:14.786174700Z",
     "start_time": "2023-12-06T09:17:14.741719900Z"
    }
   },
   "id": "f5eda14aba9afc21"
  },
  {
   "cell_type": "code",
   "execution_count": 15,
   "outputs": [
    {
     "data": {
      "text/plain": "                min         max         mean\n              yield       yield        yield\nbumbles                                     \n0.000    2825.00374  7778.34916  5477.101232\n0.042    4480.07000  8465.88563  6395.163040\n0.058    4079.91244  7778.34916  5929.130800\n0.065    4201.43596  6909.43000  5555.432980\n0.117    2946.92602  8134.72655  5398.364016\n0.250    1945.53061  8969.40184  5889.982103\n0.260    6870.34212  6870.34212  6870.342120\n0.293    4356.94587  5544.62172  4950.783795\n0.380    1945.53061  8969.40184  6368.280413\n0.560    5154.97591  5154.97591  5154.975910\n0.585    3948.98691  3998.05416  3973.520535",
      "text/html": "<div>\n<style scoped>\n    .dataframe tbody tr th:only-of-type {\n        vertical-align: middle;\n    }\n\n    .dataframe tbody tr th {\n        vertical-align: top;\n    }\n\n    .dataframe thead tr th {\n        text-align: left;\n    }\n\n    .dataframe thead tr:last-of-type th {\n        text-align: right;\n    }\n</style>\n<table border=\"1\" class=\"dataframe\">\n  <thead>\n    <tr>\n      <th></th>\n      <th>min</th>\n      <th>max</th>\n      <th>mean</th>\n    </tr>\n    <tr>\n      <th></th>\n      <th>yield</th>\n      <th>yield</th>\n      <th>yield</th>\n    </tr>\n    <tr>\n      <th>bumbles</th>\n      <th></th>\n      <th></th>\n      <th></th>\n    </tr>\n  </thead>\n  <tbody>\n    <tr>\n      <th>0.000</th>\n      <td>2825.00374</td>\n      <td>7778.34916</td>\n      <td>5477.101232</td>\n    </tr>\n    <tr>\n      <th>0.042</th>\n      <td>4480.07000</td>\n      <td>8465.88563</td>\n      <td>6395.163040</td>\n    </tr>\n    <tr>\n      <th>0.058</th>\n      <td>4079.91244</td>\n      <td>7778.34916</td>\n      <td>5929.130800</td>\n    </tr>\n    <tr>\n      <th>0.065</th>\n      <td>4201.43596</td>\n      <td>6909.43000</td>\n      <td>5555.432980</td>\n    </tr>\n    <tr>\n      <th>0.117</th>\n      <td>2946.92602</td>\n      <td>8134.72655</td>\n      <td>5398.364016</td>\n    </tr>\n    <tr>\n      <th>0.250</th>\n      <td>1945.53061</td>\n      <td>8969.40184</td>\n      <td>5889.982103</td>\n    </tr>\n    <tr>\n      <th>0.260</th>\n      <td>6870.34212</td>\n      <td>6870.34212</td>\n      <td>6870.342120</td>\n    </tr>\n    <tr>\n      <th>0.293</th>\n      <td>4356.94587</td>\n      <td>5544.62172</td>\n      <td>4950.783795</td>\n    </tr>\n    <tr>\n      <th>0.380</th>\n      <td>1945.53061</td>\n      <td>8969.40184</td>\n      <td>6368.280413</td>\n    </tr>\n    <tr>\n      <th>0.560</th>\n      <td>5154.97591</td>\n      <td>5154.97591</td>\n      <td>5154.975910</td>\n    </tr>\n    <tr>\n      <th>0.585</th>\n      <td>3948.98691</td>\n      <td>3998.05416</td>\n      <td>3973.520535</td>\n    </tr>\n  </tbody>\n</table>\n</div>"
     },
     "execution_count": 15,
     "metadata": {},
     "output_type": "execute_result"
    }
   ],
   "source": [
    "pd.pivot_table(df, values='yield', index='bumbles', aggfunc=[min, max, np.mean])"
   ],
   "metadata": {
    "collapsed": false,
    "ExecuteTime": {
     "end_time": "2023-12-06T09:17:51.752080700Z",
     "start_time": "2023-12-06T09:17:51.698560500Z"
    }
   },
   "id": "5093ea4f7ddee19f"
  },
  {
   "cell_type": "code",
   "execution_count": 17,
   "outputs": [
    {
     "data": {
      "text/plain": "                min         max         mean\n              yield       yield        yield\nandrena                                     \n0.000    2825.00374  7778.34916  5149.419085\n0.101    8465.88563  8465.88563  8465.885630\n0.147    6239.53349  7016.89385  6628.213670\n0.229    3937.91539  7122.49056  6074.211005\n0.234    4356.94587  4356.94587  4356.945870\n0.235    5544.62172  5544.62172  5544.621720\n0.240    6060.64149  6060.64149  6060.641490\n0.250    1945.53061  8969.40184  5418.068813\n0.380    1945.53061  8969.40184  6159.861083\n0.409    2384.72892  8134.72655  5344.061184\n0.490    5498.58395  8711.20896  7104.896455\n0.500    1945.53061  8969.40184  6085.530480\n0.560    3387.78516  3387.78516  3387.785160\n0.630    1945.53061  8969.40184  6005.161483\n0.707    4201.43596  4201.43596  4201.435960\n0.750    1945.53061  8969.40184  6144.297267",
      "text/html": "<div>\n<style scoped>\n    .dataframe tbody tr th:only-of-type {\n        vertical-align: middle;\n    }\n\n    .dataframe tbody tr th {\n        vertical-align: top;\n    }\n\n    .dataframe thead tr th {\n        text-align: left;\n    }\n\n    .dataframe thead tr:last-of-type th {\n        text-align: right;\n    }\n</style>\n<table border=\"1\" class=\"dataframe\">\n  <thead>\n    <tr>\n      <th></th>\n      <th>min</th>\n      <th>max</th>\n      <th>mean</th>\n    </tr>\n    <tr>\n      <th></th>\n      <th>yield</th>\n      <th>yield</th>\n      <th>yield</th>\n    </tr>\n    <tr>\n      <th>andrena</th>\n      <th></th>\n      <th></th>\n      <th></th>\n    </tr>\n  </thead>\n  <tbody>\n    <tr>\n      <th>0.000</th>\n      <td>2825.00374</td>\n      <td>7778.34916</td>\n      <td>5149.419085</td>\n    </tr>\n    <tr>\n      <th>0.101</th>\n      <td>8465.88563</td>\n      <td>8465.88563</td>\n      <td>8465.885630</td>\n    </tr>\n    <tr>\n      <th>0.147</th>\n      <td>6239.53349</td>\n      <td>7016.89385</td>\n      <td>6628.213670</td>\n    </tr>\n    <tr>\n      <th>0.229</th>\n      <td>3937.91539</td>\n      <td>7122.49056</td>\n      <td>6074.211005</td>\n    </tr>\n    <tr>\n      <th>0.234</th>\n      <td>4356.94587</td>\n      <td>4356.94587</td>\n      <td>4356.945870</td>\n    </tr>\n    <tr>\n      <th>0.235</th>\n      <td>5544.62172</td>\n      <td>5544.62172</td>\n      <td>5544.621720</td>\n    </tr>\n    <tr>\n      <th>0.240</th>\n      <td>6060.64149</td>\n      <td>6060.64149</td>\n      <td>6060.641490</td>\n    </tr>\n    <tr>\n      <th>0.250</th>\n      <td>1945.53061</td>\n      <td>8969.40184</td>\n      <td>5418.068813</td>\n    </tr>\n    <tr>\n      <th>0.380</th>\n      <td>1945.53061</td>\n      <td>8969.40184</td>\n      <td>6159.861083</td>\n    </tr>\n    <tr>\n      <th>0.409</th>\n      <td>2384.72892</td>\n      <td>8134.72655</td>\n      <td>5344.061184</td>\n    </tr>\n    <tr>\n      <th>0.490</th>\n      <td>5498.58395</td>\n      <td>8711.20896</td>\n      <td>7104.896455</td>\n    </tr>\n    <tr>\n      <th>0.500</th>\n      <td>1945.53061</td>\n      <td>8969.40184</td>\n      <td>6085.530480</td>\n    </tr>\n    <tr>\n      <th>0.560</th>\n      <td>3387.78516</td>\n      <td>3387.78516</td>\n      <td>3387.785160</td>\n    </tr>\n    <tr>\n      <th>0.630</th>\n      <td>1945.53061</td>\n      <td>8969.40184</td>\n      <td>6005.161483</td>\n    </tr>\n    <tr>\n      <th>0.707</th>\n      <td>4201.43596</td>\n      <td>4201.43596</td>\n      <td>4201.435960</td>\n    </tr>\n    <tr>\n      <th>0.750</th>\n      <td>1945.53061</td>\n      <td>8969.40184</td>\n      <td>6144.297267</td>\n    </tr>\n  </tbody>\n</table>\n</div>"
     },
     "execution_count": 17,
     "metadata": {},
     "output_type": "execute_result"
    }
   ],
   "source": [
    "pd.pivot_table(df, values='yield', index='andrena', aggfunc=[min, max, np.mean])"
   ],
   "metadata": {
    "collapsed": false,
    "ExecuteTime": {
     "end_time": "2023-12-06T09:18:11.073555900Z",
     "start_time": "2023-12-06T09:18:10.934742Z"
    }
   },
   "id": "5266ae4655a7a9b4"
  },
  {
   "cell_type": "markdown",
   "source": [
    "### Building the Model"
   ],
   "metadata": {
    "collapsed": false
   },
   "id": "a279e3d8462aea6"
  },
  {
   "cell_type": "code",
   "execution_count": 22,
   "outputs": [
    {
     "name": "stdout",
     "output_type": "stream",
     "text": [
      "X:  (15289, 17)\n",
      "y:  (15289,)\n"
     ]
    }
   ],
   "source": [
    "X = df.drop(columns=\"yield\")\n",
    "y = df[\"yield\"]\n",
    "\n",
    "print(\"X: \", X.shape)\n",
    "print(\"y: \", y.shape)"
   ],
   "metadata": {
    "collapsed": false,
    "ExecuteTime": {
     "end_time": "2023-12-06T09:21:48.279404400Z",
     "start_time": "2023-12-06T09:21:48.059231100Z"
    }
   },
   "id": "fed21ca2f4befaea"
  },
  {
   "cell_type": "code",
   "execution_count": 24,
   "outputs": [],
   "source": [
    "#Defined object from LinearRegression \n",
    "LR = LinearRegression()"
   ],
   "metadata": {
    "collapsed": false,
    "ExecuteTime": {
     "end_time": "2023-12-06T09:24:16.066347Z",
     "start_time": "2023-12-06T09:24:16.051516400Z"
    }
   },
   "id": "8d1520a55d1b707d"
  },
  {
   "cell_type": "code",
   "execution_count": 25,
   "outputs": [
    {
     "data": {
      "text/plain": "LinearRegression()",
      "text/html": "<style>#sk-container-id-1 {color: black;background-color: white;}#sk-container-id-1 pre{padding: 0;}#sk-container-id-1 div.sk-toggleable {background-color: white;}#sk-container-id-1 label.sk-toggleable__label {cursor: pointer;display: block;width: 100%;margin-bottom: 0;padding: 0.3em;box-sizing: border-box;text-align: center;}#sk-container-id-1 label.sk-toggleable__label-arrow:before {content: \"▸\";float: left;margin-right: 0.25em;color: #696969;}#sk-container-id-1 label.sk-toggleable__label-arrow:hover:before {color: black;}#sk-container-id-1 div.sk-estimator:hover label.sk-toggleable__label-arrow:before {color: black;}#sk-container-id-1 div.sk-toggleable__content {max-height: 0;max-width: 0;overflow: hidden;text-align: left;background-color: #f0f8ff;}#sk-container-id-1 div.sk-toggleable__content pre {margin: 0.2em;color: black;border-radius: 0.25em;background-color: #f0f8ff;}#sk-container-id-1 input.sk-toggleable__control:checked~div.sk-toggleable__content {max-height: 200px;max-width: 100%;overflow: auto;}#sk-container-id-1 input.sk-toggleable__control:checked~label.sk-toggleable__label-arrow:before {content: \"▾\";}#sk-container-id-1 div.sk-estimator input.sk-toggleable__control:checked~label.sk-toggleable__label {background-color: #d4ebff;}#sk-container-id-1 div.sk-label input.sk-toggleable__control:checked~label.sk-toggleable__label {background-color: #d4ebff;}#sk-container-id-1 input.sk-hidden--visually {border: 0;clip: rect(1px 1px 1px 1px);clip: rect(1px, 1px, 1px, 1px);height: 1px;margin: -1px;overflow: hidden;padding: 0;position: absolute;width: 1px;}#sk-container-id-1 div.sk-estimator {font-family: monospace;background-color: #f0f8ff;border: 1px dotted black;border-radius: 0.25em;box-sizing: border-box;margin-bottom: 0.5em;}#sk-container-id-1 div.sk-estimator:hover {background-color: #d4ebff;}#sk-container-id-1 div.sk-parallel-item::after {content: \"\";width: 100%;border-bottom: 1px solid gray;flex-grow: 1;}#sk-container-id-1 div.sk-label:hover label.sk-toggleable__label {background-color: #d4ebff;}#sk-container-id-1 div.sk-serial::before {content: \"\";position: absolute;border-left: 1px solid gray;box-sizing: border-box;top: 0;bottom: 0;left: 50%;z-index: 0;}#sk-container-id-1 div.sk-serial {display: flex;flex-direction: column;align-items: center;background-color: white;padding-right: 0.2em;padding-left: 0.2em;position: relative;}#sk-container-id-1 div.sk-item {position: relative;z-index: 1;}#sk-container-id-1 div.sk-parallel {display: flex;align-items: stretch;justify-content: center;background-color: white;position: relative;}#sk-container-id-1 div.sk-item::before, #sk-container-id-1 div.sk-parallel-item::before {content: \"\";position: absolute;border-left: 1px solid gray;box-sizing: border-box;top: 0;bottom: 0;left: 50%;z-index: -1;}#sk-container-id-1 div.sk-parallel-item {display: flex;flex-direction: column;z-index: 1;position: relative;background-color: white;}#sk-container-id-1 div.sk-parallel-item:first-child::after {align-self: flex-end;width: 50%;}#sk-container-id-1 div.sk-parallel-item:last-child::after {align-self: flex-start;width: 50%;}#sk-container-id-1 div.sk-parallel-item:only-child::after {width: 0;}#sk-container-id-1 div.sk-dashed-wrapped {border: 1px dashed gray;margin: 0 0.4em 0.5em 0.4em;box-sizing: border-box;padding-bottom: 0.4em;background-color: white;}#sk-container-id-1 div.sk-label label {font-family: monospace;font-weight: bold;display: inline-block;line-height: 1.2em;}#sk-container-id-1 div.sk-label-container {text-align: center;}#sk-container-id-1 div.sk-container {/* jupyter's `normalize.less` sets `[hidden] { display: none; }` but bootstrap.min.css set `[hidden] { display: none !important; }` so we also need the `!important` here to be able to override the default hidden behavior on the sphinx rendered scikit-learn.org. See: https://github.com/scikit-learn/scikit-learn/issues/21755 */display: inline-block !important;position: relative;}#sk-container-id-1 div.sk-text-repr-fallback {display: none;}</style><div id=\"sk-container-id-1\" class=\"sk-top-container\"><div class=\"sk-text-repr-fallback\"><pre>LinearRegression()</pre><b>In a Jupyter environment, please rerun this cell to show the HTML representation or trust the notebook. <br />On GitHub, the HTML representation is unable to render, please try loading this page with nbviewer.org.</b></div><div class=\"sk-container\" hidden><div class=\"sk-item\"><div class=\"sk-estimator sk-toggleable\"><input class=\"sk-toggleable__control sk-hidden--visually\" id=\"sk-estimator-id-1\" type=\"checkbox\" checked><label for=\"sk-estimator-id-1\" class=\"sk-toggleable__label sk-toggleable__label-arrow\">LinearRegression</label><div class=\"sk-toggleable__content\"><pre>LinearRegression()</pre></div></div></div></div></div>"
     },
     "execution_count": 25,
     "metadata": {},
     "output_type": "execute_result"
    }
   ],
   "source": [
    "LR.fit(X, y)"
   ],
   "metadata": {
    "collapsed": false,
    "ExecuteTime": {
     "end_time": "2023-12-06T09:24:16.564793500Z",
     "start_time": "2023-12-06T09:24:16.359797500Z"
    }
   },
   "id": "76d6f438a89adf78"
  },
  {
   "cell_type": "code",
   "execution_count": 28,
   "outputs": [
    {
     "data": {
      "text/plain": "      id  clonesize  honeybee  bumbles  andrena  osmia  MaxOfUpperTRange  \\\n0  15289       25.0      0.25     0.25     0.25   0.25              86.0   \n1  15290       12.5      0.25     0.25     0.75   0.63              94.6   \n2  15291       12.5      0.25     0.25     0.63   0.63              86.0   \n3  15292       25.0      0.50     0.38     0.38   0.63              86.0   \n4  15293       37.5      0.75     0.25     0.25   0.25              94.6   \n5  15294       12.5      0.25     0.25     0.75   0.75              94.6   \n6  15295       12.5      0.25     0.25     0.75   0.63              77.4   \n7  15296       12.5      0.25     0.38     0.50   0.50              69.7   \n8  15297       25.0      0.50     0.38     0.50   0.75              86.0   \n9  15298       25.0      0.25     0.25     0.25   0.25              77.4   \n\n   MinOfUpperTRange  AverageOfUpperTRange  MaxOfLowerTRange  MinOfLowerTRange  \\\n0              52.0                  71.9              62.0              30.0   \n1              57.2                  79.0              68.2              33.0   \n2              52.0                  71.9              62.0              30.0   \n3              52.0                  71.9              62.0              30.0   \n4              57.2                  79.0              68.2              33.0   \n5              57.2                  79.0              68.2              33.0   \n6              46.8                  64.7              55.8              27.0   \n7              42.1                  58.2              50.2              24.3   \n8              52.0                  71.9              62.0              30.0   \n9              46.8                  64.7              55.8              27.0   \n\n   AverageOfLowerTRange  RainingDays  AverageRainingDays  fruitset  fruitmass  \\\n0                  50.8         24.0                0.39  0.399367   0.408088   \n1                  55.9          1.0                0.10  0.488048   0.442866   \n2                  50.8         16.0                0.26  0.583379   0.487057   \n3                  50.8         16.0                0.26  0.433014   0.422847   \n4                  55.9         24.0                0.39  0.360996   0.388860   \n5                  55.9         34.0                0.56  0.451911   0.435621   \n6                  45.8         16.0                0.26  0.572611   0.482119   \n7                  41.2          1.0                0.10  0.520637   0.433668   \n8                  50.8          1.0                0.10  0.645641   0.520004   \n9                  45.8         34.0                0.56  0.398218   0.408088   \n\n       seeds  \n0  31.394569  \n1  36.846956  \n2  40.037644  \n3  33.116091  \n4  29.558019  \n5  32.814561  \n6  40.161668  \n7  35.314005  \n8  44.278583  \n9  31.378241  ",
      "text/html": "<div>\n<style scoped>\n    .dataframe tbody tr th:only-of-type {\n        vertical-align: middle;\n    }\n\n    .dataframe tbody tr th {\n        vertical-align: top;\n    }\n\n    .dataframe thead th {\n        text-align: right;\n    }\n</style>\n<table border=\"1\" class=\"dataframe\">\n  <thead>\n    <tr style=\"text-align: right;\">\n      <th></th>\n      <th>id</th>\n      <th>clonesize</th>\n      <th>honeybee</th>\n      <th>bumbles</th>\n      <th>andrena</th>\n      <th>osmia</th>\n      <th>MaxOfUpperTRange</th>\n      <th>MinOfUpperTRange</th>\n      <th>AverageOfUpperTRange</th>\n      <th>MaxOfLowerTRange</th>\n      <th>MinOfLowerTRange</th>\n      <th>AverageOfLowerTRange</th>\n      <th>RainingDays</th>\n      <th>AverageRainingDays</th>\n      <th>fruitset</th>\n      <th>fruitmass</th>\n      <th>seeds</th>\n    </tr>\n  </thead>\n  <tbody>\n    <tr>\n      <th>0</th>\n      <td>15289</td>\n      <td>25.0</td>\n      <td>0.25</td>\n      <td>0.25</td>\n      <td>0.25</td>\n      <td>0.25</td>\n      <td>86.0</td>\n      <td>52.0</td>\n      <td>71.9</td>\n      <td>62.0</td>\n      <td>30.0</td>\n      <td>50.8</td>\n      <td>24.0</td>\n      <td>0.39</td>\n      <td>0.399367</td>\n      <td>0.408088</td>\n      <td>31.394569</td>\n    </tr>\n    <tr>\n      <th>1</th>\n      <td>15290</td>\n      <td>12.5</td>\n      <td>0.25</td>\n      <td>0.25</td>\n      <td>0.75</td>\n      <td>0.63</td>\n      <td>94.6</td>\n      <td>57.2</td>\n      <td>79.0</td>\n      <td>68.2</td>\n      <td>33.0</td>\n      <td>55.9</td>\n      <td>1.0</td>\n      <td>0.10</td>\n      <td>0.488048</td>\n      <td>0.442866</td>\n      <td>36.846956</td>\n    </tr>\n    <tr>\n      <th>2</th>\n      <td>15291</td>\n      <td>12.5</td>\n      <td>0.25</td>\n      <td>0.25</td>\n      <td>0.63</td>\n      <td>0.63</td>\n      <td>86.0</td>\n      <td>52.0</td>\n      <td>71.9</td>\n      <td>62.0</td>\n      <td>30.0</td>\n      <td>50.8</td>\n      <td>16.0</td>\n      <td>0.26</td>\n      <td>0.583379</td>\n      <td>0.487057</td>\n      <td>40.037644</td>\n    </tr>\n    <tr>\n      <th>3</th>\n      <td>15292</td>\n      <td>25.0</td>\n      <td>0.50</td>\n      <td>0.38</td>\n      <td>0.38</td>\n      <td>0.63</td>\n      <td>86.0</td>\n      <td>52.0</td>\n      <td>71.9</td>\n      <td>62.0</td>\n      <td>30.0</td>\n      <td>50.8</td>\n      <td>16.0</td>\n      <td>0.26</td>\n      <td>0.433014</td>\n      <td>0.422847</td>\n      <td>33.116091</td>\n    </tr>\n    <tr>\n      <th>4</th>\n      <td>15293</td>\n      <td>37.5</td>\n      <td>0.75</td>\n      <td>0.25</td>\n      <td>0.25</td>\n      <td>0.25</td>\n      <td>94.6</td>\n      <td>57.2</td>\n      <td>79.0</td>\n      <td>68.2</td>\n      <td>33.0</td>\n      <td>55.9</td>\n      <td>24.0</td>\n      <td>0.39</td>\n      <td>0.360996</td>\n      <td>0.388860</td>\n      <td>29.558019</td>\n    </tr>\n    <tr>\n      <th>5</th>\n      <td>15294</td>\n      <td>12.5</td>\n      <td>0.25</td>\n      <td>0.25</td>\n      <td>0.75</td>\n      <td>0.75</td>\n      <td>94.6</td>\n      <td>57.2</td>\n      <td>79.0</td>\n      <td>68.2</td>\n      <td>33.0</td>\n      <td>55.9</td>\n      <td>34.0</td>\n      <td>0.56</td>\n      <td>0.451911</td>\n      <td>0.435621</td>\n      <td>32.814561</td>\n    </tr>\n    <tr>\n      <th>6</th>\n      <td>15295</td>\n      <td>12.5</td>\n      <td>0.25</td>\n      <td>0.25</td>\n      <td>0.75</td>\n      <td>0.63</td>\n      <td>77.4</td>\n      <td>46.8</td>\n      <td>64.7</td>\n      <td>55.8</td>\n      <td>27.0</td>\n      <td>45.8</td>\n      <td>16.0</td>\n      <td>0.26</td>\n      <td>0.572611</td>\n      <td>0.482119</td>\n      <td>40.161668</td>\n    </tr>\n    <tr>\n      <th>7</th>\n      <td>15296</td>\n      <td>12.5</td>\n      <td>0.25</td>\n      <td>0.38</td>\n      <td>0.50</td>\n      <td>0.50</td>\n      <td>69.7</td>\n      <td>42.1</td>\n      <td>58.2</td>\n      <td>50.2</td>\n      <td>24.3</td>\n      <td>41.2</td>\n      <td>1.0</td>\n      <td>0.10</td>\n      <td>0.520637</td>\n      <td>0.433668</td>\n      <td>35.314005</td>\n    </tr>\n    <tr>\n      <th>8</th>\n      <td>15297</td>\n      <td>25.0</td>\n      <td>0.50</td>\n      <td>0.38</td>\n      <td>0.50</td>\n      <td>0.75</td>\n      <td>86.0</td>\n      <td>52.0</td>\n      <td>71.9</td>\n      <td>62.0</td>\n      <td>30.0</td>\n      <td>50.8</td>\n      <td>1.0</td>\n      <td>0.10</td>\n      <td>0.645641</td>\n      <td>0.520004</td>\n      <td>44.278583</td>\n    </tr>\n    <tr>\n      <th>9</th>\n      <td>15298</td>\n      <td>25.0</td>\n      <td>0.25</td>\n      <td>0.25</td>\n      <td>0.25</td>\n      <td>0.25</td>\n      <td>77.4</td>\n      <td>46.8</td>\n      <td>64.7</td>\n      <td>55.8</td>\n      <td>27.0</td>\n      <td>45.8</td>\n      <td>34.0</td>\n      <td>0.56</td>\n      <td>0.398218</td>\n      <td>0.408088</td>\n      <td>31.378241</td>\n    </tr>\n  </tbody>\n</table>\n</div>"
     },
     "execution_count": 28,
     "metadata": {},
     "output_type": "execute_result"
    }
   ],
   "source": [
    "# Get the test set\n",
    "df_test = pd.read_csv(\"archive/test.csv\")\n",
    "df_test.head(10)"
   ],
   "metadata": {
    "collapsed": false,
    "ExecuteTime": {
     "end_time": "2023-12-06T09:25:45.621787900Z",
     "start_time": "2023-12-06T09:25:45.566757600Z"
    }
   },
   "id": "8d82b211917486ab"
  },
  {
   "cell_type": "code",
   "execution_count": 29,
   "outputs": [
    {
     "data": {
      "text/plain": "array([4298.58071527, 6102.78333537, 7245.7921918 , ..., 6923.17718237,\n       4437.82843629, 7313.59612751])"
     },
     "execution_count": 29,
     "metadata": {},
     "output_type": "execute_result"
    }
   ],
   "source": [
    "LR.predict(df_test)"
   ],
   "metadata": {
    "collapsed": false,
    "ExecuteTime": {
     "end_time": "2023-12-06T09:25:56.958646100Z",
     "start_time": "2023-12-06T09:25:56.881305900Z"
    }
   },
   "id": "f87ebf0a42166140"
  },
  {
   "cell_type": "code",
   "execution_count": 39,
   "outputs": [],
   "source": [
    "# creating and saving submission file\n",
    "data = {\n",
    "    \"id\" : df_test[\"id\"],\n",
    "    \"yield\": LR.predict(df_test)\n",
    "}\n",
    "output = pd.DataFrame(data)\n",
    "\n",
    "output.to_csv('output.csv', index=False)"
   ],
   "metadata": {
    "collapsed": false,
    "ExecuteTime": {
     "end_time": "2023-12-06T09:36:25.136991600Z",
     "start_time": "2023-12-06T09:36:25.085669200Z"
    }
   },
   "id": "f574676d2ebdd6b"
  },
  {
   "cell_type": "code",
   "execution_count": null,
   "outputs": [],
   "source": [],
   "metadata": {
    "collapsed": false
   },
   "id": "52f65ce4edae2ad4"
  }
 ],
 "metadata": {
  "kernelspec": {
   "display_name": "Python 3",
   "language": "python",
   "name": "python3"
  },
  "language_info": {
   "codemirror_mode": {
    "name": "ipython",
    "version": 2
   },
   "file_extension": ".py",
   "mimetype": "text/x-python",
   "name": "python",
   "nbconvert_exporter": "python",
   "pygments_lexer": "ipython2",
   "version": "2.7.6"
  }
 },
 "nbformat": 4,
 "nbformat_minor": 5
}
